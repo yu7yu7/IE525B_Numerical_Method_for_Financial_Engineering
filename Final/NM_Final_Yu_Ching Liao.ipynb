{
 "cells": [
  {
   "attachments": {},
   "cell_type": "markdown",
   "metadata": {},
   "source": [
    "<center><img src=\"https://news.illinois.edu/files/6367/543635/116641.jpg\" alt=\"University of Illinois\" width=\"250\"/></center>\n",
    "\n",
    "# Numerical Method for Financial Engineering\n",
    "\n",
    "## Final Report Project ##\n",
    "\n",
    "* Yu-Ching Liao <ycliao3@illinois.edu>"
   ]
  },
  {
   "attachments": {},
   "cell_type": "markdown",
   "metadata": {},
   "source": [
    "# Basic Import"
   ]
  },
  {
   "cell_type": "code",
   "execution_count": 12,
   "metadata": {},
   "outputs": [],
   "source": [
    "import numpy as np\n",
    "import math\n",
    "from datetime import datetime"
   ]
  },
  {
   "attachments": {},
   "cell_type": "markdown",
   "metadata": {},
   "source": [
    "# Task 1\n",
    "Price European put vanilla. Spot=100, sigma=20%, valuation date=4/28/2023, expiry=12/15/2023, rate=2.5% per annum, K=100"
   ]
  },
  {
   "cell_type": "code",
   "execution_count": 33,
   "metadata": {},
   "outputs": [
    {
     "name": "stdout",
     "output_type": "stream",
     "text": [
      "European put option price: 5.525524804683739\n"
     ]
    }
   ],
   "source": [
    "# Parameters\n",
    "S0 = 100\n",
    "K = 100\n",
    "sigma = 0.2\n",
    "r = 0.025\n",
    "valuation_date = \"4/28/2023\"\n",
    "expiry_date = \"12/15/2023\"\n",
    "\n",
    "valuation_datetime = datetime.strptime(valuation_date, \"%m/%d/%Y\")\n",
    "expiry_datetime = datetime.strptime(expiry_date, \"%m/%d/%Y\")\n",
    "T_days = (expiry_datetime - valuation_datetime).days\n",
    "T = T_days / 365.0\n",
    "\n",
    "# PDE grid parameters\n",
    "M = 100  # number of grid points in the asset price direction\n",
    "N = 1000  # number of time steps\n",
    "\n",
    "# Set up the grid\n",
    "dt = T / N\n",
    "dS = 2 * S0 / M\n",
    "S = np.linspace(0, 2 * S0, M + 1)\n",
    "tau = np.linspace(0, T, N + 1)\n",
    "\n",
    "# Initialize the option price grid\n",
    "V = np.zeros((M + 1, N + 1))\n",
    "\n",
    "# Set up boundary conditions\n",
    "V[:, -1] = np.maximum(K - S, 0)  # Terminal condition (at expiry)\n",
    "V[-1, :-1] = 0  # Upper boundary (large asset price)\n",
    "V[0, :-1] = K * np.exp(-r * (T - tau[:-1]))  # Lower boundary (zero asset price)\n",
    "\n",
    "# Time-stepping loop\n",
    "for n in range(N - 1, -1, -1):\n",
    "    for m in range(1, M):\n",
    "        V[m, n] = V[m, n+1] + dt * (\n",
    "            0.5 * sigma ** 2 * S[m] ** 2 * (V[m+1, n+1] - 2 * V[m, n+1] + V[m-1, n+1]) / dS ** 2\n",
    "            + r * S[m] * (V[m+1, n+1] - V[m-1, n+1]) / (2 * dS)\n",
    "            - r * V[m, n+1]\n",
    "        )\n",
    "\n",
    "put_price = V[M//2, 0]\n",
    "print(\"European put option price:\", put_price)"
   ]
  },
  {
   "attachments": {},
   "cell_type": "markdown",
   "metadata": {},
   "source": [
    "# Task 2\n",
    "Price American put vanilla.  Spot=100, sigma=20%, valuation date=4/28/2023, expiry=12/15/2023, rate=2.5% per annum, K=100"
   ]
  },
  {
   "cell_type": "code",
   "execution_count": 32,
   "metadata": {},
   "outputs": [
    {
     "name": "stdout",
     "output_type": "stream",
     "text": [
      "American put option price: 5.658390797709389\n"
     ]
    }
   ],
   "source": [
    "# Parameters\n",
    "S0 = 100\n",
    "K = 100\n",
    "sigma = 0.2\n",
    "r = 0.025\n",
    "valuation_date = \"4/28/2023\"\n",
    "expiry_date = \"12/15/2023\"\n",
    "\n",
    "valuation_datetime = datetime.strptime(valuation_date, \"%m/%d/%Y\")\n",
    "expiry_datetime = datetime.strptime(expiry_date, \"%m/%d/%Y\")\n",
    "T_days = (expiry_datetime - valuation_datetime).days\n",
    "T = T_days / 365.0\n",
    "\n",
    "# PDE grid parameters\n",
    "M = 100  # number of grid points in the asset price direction\n",
    "N = 1000  # number of time steps\n",
    "\n",
    "# Set up the grid\n",
    "dt = T / N\n",
    "dS = 2 * S0 / M\n",
    "S = np.linspace(0, 2 * S0, M + 1)\n",
    "tau = np.linspace(0, T, N + 1)\n",
    "\n",
    "# Initialize the option price grid\n",
    "V = np.zeros((M + 1, N + 1))\n",
    "\n",
    "# Set up boundary conditions\n",
    "V[:, -1] = np.maximum(K - S, 0)  # Terminal condition (at expiry)\n",
    "V[-1, :-1] = 0  # Upper boundary (large asset price)\n",
    "V[0, :-1] = K * np.exp(-r * (T - tau[:-1]))  # Lower boundary (zero asset price)\n",
    "\n",
    "# Time-stepping loop\n",
    "for n in range(N - 1, -1, -1):\n",
    "    for m in range(1, M):\n",
    "        V[m, n] = V[m, n+1] + dt * (\n",
    "            0.5 * sigma ** 2 * S[m] ** 2 * (V[m+1, n+1] - 2 * V[m, n+1] + V[m-1, n+1]) / dS ** 2\n",
    "            + r * S[m] * (V[m+1, n+1] - V[m-1, n+1]) / (2 * dS)\n",
    "            - r * V[m, n+1]\n",
    "        )\n",
    "        # Early exercise condition\n",
    "        V[m, n] = max(V[m, n], K - S[m])\n",
    "\n",
    "american_put_price = V[M//2, 0]\n",
    "print(\"American put option price:\", american_put_price)\n"
   ]
  },
  {
   "attachments": {},
   "cell_type": "markdown",
   "metadata": {},
   "source": [
    "# Task 3\n",
    "Price Continuous down and in put barrier option where barrier level is =80, Spot=100, sigma=20%, valuation date=4/28/2023, expiry=12/15/2023, rate=2.5% per annum, K=100. "
   ]
  },
  {
   "cell_type": "code",
   "execution_count": 30,
   "metadata": {},
   "outputs": [
    {
     "name": "stdout",
     "output_type": "stream",
     "text": [
      "PDE continuous down-and-in put barrier option price: 5.774434321909334\n"
     ]
    }
   ],
   "source": [
    "# Parameters\n",
    "S0 = 100\n",
    "K = 100\n",
    "sigma = 0.2\n",
    "r = 0.025\n",
    "valuation_date = \"4/28/2023\"\n",
    "expiry_date = \"12/15/2023\"\n",
    "barrier_level = 80\n",
    "\n",
    "valuation_datetime = datetime.strptime(valuation_date, \"%m/%d/%Y\")\n",
    "expiry_datetime = datetime.strptime(expiry_date, \"%m/%d/%Y\")\n",
    "T_days = (expiry_datetime - valuation_datetime).days\n",
    "T = T_days / 365.0\n",
    "\n",
    "# PDE grid parameters\n",
    "M = 100  # number of grid points in the asset price direction\n",
    "N = 1000  # number of time steps\n",
    "\n",
    "# Set up the grid\n",
    "dt = T / N\n",
    "dS = 2 * S0 / M\n",
    "S = np.linspace(0, 2 * S0, M + 1)\n",
    "tau = np.linspace(0, T, N + 1)\n",
    "\n",
    "# Initialize the option price grid\n",
    "V = np.zeros((M + 1, N + 1))\n",
    "\n",
    "# Set up boundary conditions\n",
    "V[:, -1] = np.maximum(K - S, 0)  # Terminal condition (at expiry)\n",
    "V[-1, :-1] = 0  # Upper boundary (large asset price)\n",
    "V[0, :-1] = K * np.exp(-r * (T - tau[:-1]))  # Lower boundary (zero asset price)\n",
    "\n",
    "# Time-stepping loop\n",
    "for n in range(N - 1, -1, -1):\n",
    "    for m in range(1, M):\n",
    "        V[m, n] = V[m, n+1] + dt * (\n",
    "            0.5 * sigma ** 2 * S[m] ** 2 * (V[m+1, n+1] - 2 * V[m, n+1] + V[m-1, n+1]) / dS ** 2\n",
    "            + r * S[m] * (V[m+1, n+1] - V[m-1, n+1]) / (2 * dS)\n",
    "            - r * V[m, n+1]\n",
    "        )\n",
    "\n",
    "european_put_price = V[M//2, 0]\n",
    "\n",
    "# Calculate Down-and-Out put option price\n",
    "down_and_out_put_price = down_and_out_put(S0, K, r, sigma, T, barrier_level)\n",
    "\n",
    "# Calculate Down-and-In put option price\n",
    "down_and_in_put_price_pde = european_put_price - down_and_out_put_price\n",
    "print(\"PDE continuous down-and-in put barrier option price:\", down_and_in_put_price_pde)\n",
    "\n"
   ]
  },
  {
   "attachments": {},
   "cell_type": "markdown",
   "metadata": {},
   "source": [
    "# Task 4\n",
    "Use Black Scholes price to reconcile your PDE price with prices from a and c. Use trinomial tree to reconcile the price from b. Note, you need to find out how to price a continuous barrier using Analytic formula.\n",
    "\n",
    "## Reconciling A and C"
   ]
  },
  {
   "cell_type": "code",
   "execution_count": 44,
   "metadata": {},
   "outputs": [
    {
     "name": "stdout",
     "output_type": "stream",
     "text": [
      "Reconciling A: Black-Scholes European put option price: 5.537141658960508\n",
      "Reconsiling C: Analytical continuous down-and-in put barrier option price: 5.786051176186103\n"
     ]
    }
   ],
   "source": [
    "def d1(S, K, r, sigma, T):\n",
    "    return (np.log(S / K) + (r + 0.5 * sigma ** 2) * T) / (sigma * np.sqrt(T))\n",
    "\n",
    "def d2(S, K, r, sigma, T):\n",
    "    return d1(S, K, r, sigma, T) - sigma * np.sqrt(T)\n",
    "\n",
    "def black_scholes_put(S, K, r, sigma, T):\n",
    "    d1_value = d1(S, K, r, sigma, T)\n",
    "    d2_value = d2(S, K, r, sigma, T)\n",
    "    return K * np.exp(-r * T) * norm.cdf(-d2_value) - S * norm.cdf(-d1_value)\n",
    "\n",
    "def down_and_out_put(S, K, r, sigma, T, H):\n",
    "    P = black_scholes_put(S, K, r, sigma, T)\n",
    "    lambda_ = (r + 0.5 * sigma ** 2) / sigma ** 2\n",
    "    y = (np.log(H ** 2 / (S * K)) / (sigma * np.sqrt(T))) + lambda_ * sigma * np.sqrt(T)\n",
    "    DOP = P * (H / S) ** (2 * lambda_) * norm.cdf(y) - K * np.exp(-r * T) * norm.cdf(y - sigma * np.sqrt(T))\n",
    "    return DOP\n",
    "\n",
    "def down_and_in_put(S, K, r, sigma, T, H):\n",
    "    P = black_scholes_put(S, K, r, sigma, T)\n",
    "    DOP = down_and_out_put(S, K, r, sigma, T, H)\n",
    "    return P - DOP\n",
    "\n",
    "\n",
    "# Parameters\n",
    "S0 = 100\n",
    "K = 100\n",
    "sigma = 0.2\n",
    "r = 0.025\n",
    "valuation_date = \"4/28/2023\"\n",
    "expiry_date = \"12/15/2023\"\n",
    "\n",
    "valuation_datetime = datetime.strptime(valuation_date, \"%m/%d/%Y\")\n",
    "expiry_datetime = datetime.strptime(expiry_date, \"%m/%d/%Y\")\n",
    "T_days = (expiry_datetime - valuation_datetime).days\n",
    "T = T_days / 365.0\n",
    "\n",
    "# Black-Scholes European put price\n",
    "bs_european_put_price = black_scholes_put(S0, K, r, sigma, T)\n",
    "print(\"Reconciling A: Black-Scholes European put option price:\", bs_european_put_price)\n",
    "\n",
    "# Calculate Down-and-In put price\n",
    "down_and_in_put_price = down_and_in_put(S0, K, r, sigma, T, barrier_level)\n",
    "print(\"Reconsiling C: Analytical continuous down-and-in put barrier option price:\", down_and_in_put_price)\n"
   ]
  },
  {
   "attachments": {},
   "cell_type": "markdown",
   "metadata": {},
   "source": [
    "## Reconciling B"
   ]
  },
  {
   "cell_type": "code",
   "execution_count": 40,
   "metadata": {},
   "outputs": [
    {
     "name": "stdout",
     "output_type": "stream",
     "text": [
      "Trinomial tree American put option price: 5.670929416020242\n"
     ]
    }
   ],
   "source": [
    "import numpy as np\n",
    "import math\n",
    "from datetime import datetime\n",
    "\n",
    "# Parameters\n",
    "S0 = 100\n",
    "K = 100\n",
    "sigma = 0.2\n",
    "r = 0.025\n",
    "valuation_date = \"4/28/2023\"\n",
    "expiry_date = \"12/15/2023\"\n",
    "\n",
    "valuation_datetime = datetime.strptime(valuation_date, \"%m/%d/%Y\")\n",
    "expiry_datetime = datetime.strptime(expiry_date, \"%m/%d/%Y\")\n",
    "T_days = (expiry_datetime - valuation_datetime).days\n",
    "T = T_days / 365.0\n",
    "\n",
    "# Trinomial tree parameters\n",
    "N = 1000  # number of time steps\n",
    "dt = T / N\n",
    "\n",
    "# Trinomial probabilities\n",
    "u = np.exp(sigma * np.sqrt(2 * dt))\n",
    "d = 1 / u\n",
    "p_u = ((np.exp(r * dt / 2) - np.exp(-sigma * np.sqrt(dt / 2))) / (np.exp(sigma * np.sqrt(dt / 2)) - np.exp(-sigma * np.sqrt(dt / 2)))) ** 2\n",
    "p_d = ((np.exp(sigma * np.sqrt(dt / 2)) - np.exp(r * dt / 2)) / (np.exp(sigma * np.sqrt(dt / 2)) - np.exp(-sigma * np.sqrt(dt / 2)))) ** 2\n",
    "p_m = 1 - p_u - p_d\n",
    "\n",
    "# Initialize the trinomial tree\n",
    "tree = np.zeros((2 * N + 1, N + 1))\n",
    "\n",
    "# Set up the terminal payoff\n",
    "for i in range(2 * N + 1):\n",
    "    tree[i, -1] = max(K - S0 * u ** (N - i), 0)\n",
    "\n",
    "# Backward induction\n",
    "for n in range(N - 1, -1, -1):\n",
    "    for i in range(2 * n + 1):\n",
    "        tree[i, n] = max(K - S0 * u ** (n - i), np.exp(-r * dt) * (p_u * tree[i, n + 1] + p_m * tree[i + 1, n + 1] + p_d * tree[i + 2, n + 1]))\n",
    "\n",
    "american_put_price_trinomial = tree[0, 0]\n",
    "print(\"Trinomial tree American put option price:\", american_put_price_trinomial)\n"
   ]
  },
  {
   "attachments": {},
   "cell_type": "markdown",
   "metadata": {},
   "source": [
    "# Task 5\n",
    "Use a Monte Carlo pricer to reconcile with price from a. "
   ]
  },
  {
   "cell_type": "code",
   "execution_count": 43,
   "metadata": {},
   "outputs": [
    {
     "name": "stdout",
     "output_type": "stream",
     "text": [
      "Monte Carlo European put option price: 5.5365699207100505\n"
     ]
    }
   ],
   "source": [
    "# Parameters\n",
    "S0 = 100\n",
    "K = 100\n",
    "sigma = 0.2\n",
    "r = 0.025\n",
    "valuation_date = \"4/28/2023\"\n",
    "expiry_date = \"12/15/2023\"\n",
    "\n",
    "valuation_datetime = datetime.strptime(valuation_date, \"%m/%d/%Y\")\n",
    "expiry_datetime = datetime.strptime(expiry_date, \"%m/%d/%Y\")\n",
    "T_days = (expiry_datetime - valuation_datetime).days\n",
    "T = T_days / 365.0\n",
    "\n",
    "# Monte Carlo parameters\n",
    "num_simulations = 100000\n",
    "\n",
    "# Generate random paths\n",
    "np.random.seed(42)\n",
    "Z = np.random.randn(num_simulations)\n",
    "S_T = S0 * np.exp((r - 0.5 * sigma ** 2) * T + sigma * np.sqrt(T) * Z)\n",
    "\n",
    "# Calculate the discounted payoffs\n",
    "payoffs = np.maximum(K - S_T, 0) * np.exp(-r * T)\n",
    "\n",
    "# Calculate the Monte Carlo price\n",
    "monte_carlo_price = np.mean(payoffs)\n",
    "print(\"Monte Carlo European put option price:\", monte_carlo_price)\n"
   ]
  },
  {
   "attachments": {},
   "cell_type": "markdown",
   "metadata": {},
   "source": [
    "# Why minor difference? "
   ]
  },
  {
   "attachments": {},
   "cell_type": "markdown",
   "metadata": {},
   "source": [
    "The minor differences in the option prices obtained from the PDE grid method, trinomial tree method, and Monte Carlo simulation, when compared to the analytical Black-Scholes prices, are normal and expected. These differences can be attributed to discretization errors, the choice of grid points, time steps, or the number of simulations in each method. It is common for these numerical methods to exhibit small differences in price when compared to analytical models.\n",
    "\n",
    "In practice, increasing the numerical resolution (more grid points, time steps, or simulations) can help reduce these differences and improve the accuracy of the calculated prices. However, this improvement comes at the cost of increased computation time. Therefore, it is essential to strike a balance between accuracy and computational efficiency, especially in real-time pricing and risk management applications."
   ]
  },
  {
   "attachments": {},
   "cell_type": "markdown",
   "metadata": {},
   "source": [
    "<center><img src=\"https://news.illinois.edu/files/6367/543635/116641.jpg\" alt=\"University of Illinois\" width=\"250\"/></center>"
   ]
  }
 ],
 "metadata": {
  "kernelspec": {
   "display_name": "Python 3",
   "language": "python",
   "name": "python3"
  },
  "language_info": {
   "codemirror_mode": {
    "name": "ipython",
    "version": 3
   },
   "file_extension": ".py",
   "mimetype": "text/x-python",
   "name": "python",
   "nbconvert_exporter": "python",
   "pygments_lexer": "ipython3",
   "version": "3.11.1"
  },
  "orig_nbformat": 4
 },
 "nbformat": 4,
 "nbformat_minor": 2
}
