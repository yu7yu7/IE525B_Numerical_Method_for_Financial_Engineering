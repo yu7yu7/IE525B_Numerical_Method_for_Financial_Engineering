{
 "cells": [
  {
   "attachments": {},
   "cell_type": "markdown",
   "metadata": {},
   "source": [
    "<center><img src=\"https://news.illinois.edu/files/6367/543635/116641.jpg\" alt=\"University of Illinois\" width=\"250\"/></center>\n",
    "\n",
    "# Numerical Method for Financial Engineering\n",
    "\n",
    "## Final Report Project ##\n",
    "\n",
    "* Yu-Ching Liao <ycliao3@illinois.edu>\n",
    "* Hyoung-Woo Hahm <hwhahm2@illinois.edu>\n",
    "\n",
    "In the following tasks, we are using \"Explicit\" scheme to price. "
   ]
  },
  {
   "attachments": {},
   "cell_type": "markdown",
   "metadata": {},
   "source": [
    "# Basic Import"
   ]
  },
  {
   "cell_type": "code",
   "execution_count": 1,
   "metadata": {},
   "outputs": [],
   "source": [
    "import numpy as np\n",
    "import math\n",
    "from datetime import datetime\n",
    "from scipy.stats import norm\n",
    "import scipy.interpolate as interp\n",
    "import scipy.stats as stats\n",
    "import matplotlib.pyplot as plt\n",
    "from sklearn.linear_model import LinearRegression"
   ]
  },
  {
   "attachments": {},
   "cell_type": "markdown",
   "metadata": {},
   "source": [
    "# Task A\n",
    "Price European put vanilla. Spot=100, sigma=20%, valuation date=4/28/2023, expiry=12/15/2023, rate=2.5% per annum, K=100"
   ]
  },
  {
   "attachments": {},
   "cell_type": "markdown",
   "metadata": {},
   "source": [
    "## Code with Necessary Comments and Result (Totally 4 pts) "
   ]
  },
  {
   "cell_type": "code",
   "execution_count": 2,
   "metadata": {},
   "outputs": [
    {
     "name": "stdout",
     "output_type": "stream",
     "text": [
      "European put option price by Explicit PDE grid: 5.525524804683739\n"
     ]
    }
   ],
   "source": [
    "# Parameters\n",
    "S0 = 100  # Current asset price\n",
    "K = 100  # Option strike price\n",
    "sigma = 0.2  # Asset volatility\n",
    "r = 0.025  # Risk-free interest rate\n",
    "valuation_date = \"4/28/2023\"\n",
    "expiry_date = \"12/15/2023\"\n",
    "\n",
    "# Convert dates to datetime objects and calculate time to expiry in years\n",
    "valuation_datetime = datetime.strptime(valuation_date, \"%m/%d/%Y\")\n",
    "expiry_datetime = datetime.strptime(expiry_date, \"%m/%d/%Y\")\n",
    "T_days = (expiry_datetime - valuation_datetime).days\n",
    "T = T_days / 365.0\n",
    "\n",
    "# PDE grid parameters\n",
    "M = 100  # Number of grid points in asset price direction\n",
    "N = 1000  # Number of time steps\n",
    "\n",
    "# Set up the grid\n",
    "dt = T / N  # Time step size\n",
    "dS = 2 * S0 / M  # Asset price step size\n",
    "S = np.linspace(0, 2 * S0, M + 1)  # Asset price grid\n",
    "tau = np.linspace(0, T, N + 1)  # Time grid\n",
    "\n",
    "# Initialize the option price grid\n",
    "V = np.zeros((M + 1, N + 1))\n",
    "\n",
    "# Set up boundary conditions\n",
    "V[:, -1] = np.maximum(K - S, 0)\n",
    "\n",
    "# Terminal condition (at expiry). This represents the payoff of the put option.\n",
    "V[-1, :-1] = 0  # Upper boundary (large asset price). The put option becomes worthless as the asset price increases.\n",
    "V[0, :-1] = K * np.exp(-r * (T - tau[:-1]))  # Lower boundary (zero asset price). The put option pays out the strike price at expiry.\n",
    "\n",
    "# Time-stepping loop\n",
    "for n in range(N - 1, -1, -1):\n",
    "    for m in range(1, M):\n",
    "        # Calculate the option price at each grid point using the explicit finite difference method.\n",
    "        # This approximates the Black-Scholes PDE, which describes the evolution of the option price.\n",
    "        V[m, n] = V[m, n+1] + dt * (\n",
    "            0.5 * sigma ** 2 * S[m] ** 2 * (V[m+1, n+1] - 2 * V[m, n+1] + V[m-1, n+1]) / dS ** 2  # Diffusion term\n",
    "            + r * S[m] * (V[m+1, n+1] - V[m-1, n+1]) / (2 * dS)  # Convection term\n",
    "            - r * V[m, n+1]  # Discount term\n",
    "        )\n",
    "\n",
    "# Calculate the price of the put option at the current asset price and valuation date\n",
    "put_price = V[M//2, 0]\n",
    "print(\"European put option price by Explicit PDE grid:\", put_price)\n"
   ]
  },
  {
   "attachments": {},
   "cell_type": "markdown",
   "metadata": {},
   "source": [
    " ## Description or Math Process for this task (4 pts)\n",
    "\n",
    "This Python code calculates the price of a European put option using the finite difference method, specifically the explicit method. The governing equation is the Black-Scholes Partial Differential Equation (PDE). The solution process involves discretizing the PDE on a grid and using a time-stepping loop to solve the equation.\n",
    "\n",
    "The Black-Scholes PDE for a European put option is given by:\n",
    "\n",
    "\\begin{equation}\n",
    "\\frac{\\partial V}{\\partial t} + rS\\frac{\\partial V}{\\partial S} + \\frac{1}{2} \\sigma^2 S^2 \\frac{\\partial^2 V}{\\partial S^2} - rV = 0\n",
    "\\end{equation}\n",
    "\n",
    "where:\n",
    "- $V(S, t)$ is the option price as a function of the asset price $S$ and time $t$.\n",
    "- $r$ is the risk-free interest rate.\n",
    "- $\\sigma$ is the asset price volatility.\n",
    "\n",
    "The Explicit Finite Difference method is used to discretize and solve the PDE. The discretization process results in the following equation:\n",
    "\n",
    "\\begin{equation}\n",
    "V_{m, n} = V_{m, n+1} + \\Delta t \\left[ \\frac{1}{2} \\sigma^2 S_m^2 \\frac{V_{m+1, n+1} - 2V_{m, n+1} + V_{m-1, n+1}}{\\Delta S^2} + r S_m \\frac{V_{m+1, n+1} - V_{m-1, n+1}}{2\\Delta S} - rV_{m, n+1} \\right]\n",
    "\\end{equation}\n",
    "\n",
    "where $V_{m, n}$ represents the option price at grid point $(m, n)$, and $\\Delta t$ and $\\Delta S$ are the time and asset price step sizes, respectively.\n"
   ]
  },
  {
   "attachments": {},
   "cell_type": "markdown",
   "metadata": {},
   "source": [
    "# Task B\n",
    "Price American put vanilla.  Spot=100, sigma=20%, valuation date=4/28/2023, expiry=12/15/2023, rate=2.5% per annum, K=100"
   ]
  },
  {
   "attachments": {},
   "cell_type": "markdown",
   "metadata": {},
   "source": [
    "## Code with Necessary Comments and Result (Totally 4 pts) "
   ]
  },
  {
   "cell_type": "code",
   "execution_count": 3,
   "metadata": {},
   "outputs": [
    {
     "name": "stdout",
     "output_type": "stream",
     "text": [
      "American put option price by Explicit PDE grid: 5.658390797709389\n"
     ]
    }
   ],
   "source": [
    "# Parameters\n",
    "S0 = 100  # Current asset price\n",
    "K = 100  # Option strike price\n",
    "sigma = 0.2  # Asset volatility\n",
    "r = 0.025  # Risk-free interest rate\n",
    "valuation_date = \"4/28/2023\"\n",
    "expiry_date = \"12/15/2023\"\n",
    "\n",
    "# Convert dates to datetime objects and calculate time to expiry in years\n",
    "valuation_datetime = datetime.strptime(valuation_date, \"%m/%d/%Y\")\n",
    "expiry_datetime = datetime.strptime(expiry_date, \"%m/%d/%Y\")\n",
    "T_days = (expiry_datetime - valuation_datetime).days\n",
    "T = T_days / 365.0\n",
    "\n",
    "# PDE grid parameters\n",
    "M = 100  # Number of grid points in asset price direction\n",
    "N = 1000  # Number of time steps\n",
    "\n",
    "# Set up the grid\n",
    "dt = T / N\n",
    "dS = 2 * S0 / M\n",
    "S = np.linspace(0, 2 * S0, M + 1)\n",
    "tau = np.linspace(0, T, N + 1)\n",
    "\n",
    "# Initialize the option price grid\n",
    "V = np.zeros((M + 1, N + 1))\n",
    "\n",
    "# Set up boundary conditions\n",
    "V[:, -1] = np.maximum(K - S, 0)  # Terminal condition (at expiry)\n",
    "V[-1, :-1] = 0  # Upper boundary (large asset price)\n",
    "V[0, :-1] = K * np.exp(-r * (T - tau[:-1]))  # Lower boundary (zero asset price)\n",
    "\n",
    "# Time-stepping loop\n",
    "for n in range(N - 1, -1, -1):\n",
    "    for m in range(1, M):\n",
    "        # Update the option price grid using the explicit finite difference method\n",
    "        V[m, n] = V[m, n+1] + dt * (\n",
    "            0.5 * sigma ** 2 * S[m] ** 2 * (V[m+1, n+1] - 2 * V[m, n+1] + V[m-1, n+1]) / dS ** 2\n",
    "            + r * S[m] * (V[m+1, n+1] - V[m-1, n+1]) / (2 * dS)\n",
    "            - r * V[m, n+1]\n",
    "        )\n",
    "        # Apply the early exercise condition for the American option\n",
    "        V[m, n] = max(V[m, n], K - S[m])\n",
    "\n",
    "#Compute the American put option price at the initial time and asset price S0\n",
    "american_put_price = V[M//2, 0]\n",
    "print(\"American put option price by Explicit PDE grid:\", american_put_price)"
   ]
  },
  {
   "attachments": {},
   "cell_type": "markdown",
   "metadata": {},
   "source": [
    " ## Description or Math Process for this task (4 pts)\n",
    "\n",
    "This Python code calculates the price of an American put option using the finite difference method, specifically the explicit method. The governing equation is the Black-Scholes Partial Differential Equation (PDE), but with an additional early exercise condition that differentiates an American option from a European option. The solution process involves discretizing the PDE on a grid and using a time-stepping loop to solve the equation.\n",
    "\n",
    "The Black-Scholes PDE for a European put option is given by:\n",
    "\n",
    "\\begin{equation}\n",
    "\\frac{\\partial V}{\\partial t} + rS\\frac{\\partial V}{\\partial S} + \\frac{1}{2} \\sigma^2 S^2 \\frac{\\partial^2 V}{\\partial S^2} - rV = 0\n",
    "\\end{equation}\n",
    "\n",
    "For an American option, an early exercise condition is added, meaning that the value of the option is always at least the immediate exercise value:\n",
    "\n",
    "\\begin{equation}\n",
    "V(S, t) \\geq K - S\n",
    "\\end{equation}\n",
    "\n",
    "The Explicit Finite Difference method is used to discretize and solve the PDE. The discretization process results in the following equation:\n",
    "\n",
    "\\begin{equation}\n",
    "V_{m, n} = \\max \\left( K - S_m, \\ V_{m, n+1} + \\Delta t \\left[ \\frac{1}{2} \\sigma^2 S_m^2 \\frac{V_{m+1, n+1} - 2V_{m, n+1} + V_{m-1, n+1}}{\\Delta S^2} + r S_m \\frac{V_{m+1, n+1} - V_{m-1, n+1}}{2\\Delta S} - rV_{m, n+1} \\right] \\right)\n",
    "\\end{equation}\n",
    "\n",
    "where $V_{m, n}$ represents the option price at grid point $(m, n)$, and $\\Delta t$ and $\\Delta S$ are the time and asset price step sizes, respectively.\n"
   ]
  },
  {
   "attachments": {},
   "cell_type": "markdown",
   "metadata": {},
   "source": [
    "# Task C\n",
    "Price Continuous down and in put barrier option where barrier level is =80, Spot=100, sigma=20%, valuation date=4/28/2023, expiry=12/15/2023, rate=2.5% per annum, K=100. "
   ]
  },
  {
   "attachments": {},
   "cell_type": "markdown",
   "metadata": {},
   "source": [
    "## Code with Necessary Comments and Result (Totally 4 pts) "
   ]
  },
  {
   "cell_type": "code",
   "execution_count": 4,
   "metadata": {},
   "outputs": [
    {
     "name": "stdout",
     "output_type": "stream",
     "text": [
      "Continuous down-and-in put barrier option price: 2.1621694296734653\n"
     ]
    }
   ],
   "source": [
    "# Parameters\n",
    "S0 = 100  # Current asset price\n",
    "K = 100  # Option strike price\n",
    "sigma = 0.2  # Asset volatility\n",
    "r = 0.025  # Risk-free interest rate\n",
    "valuation_date = \"4/28/2023\"\n",
    "expiry_date = \"12/15/2023\"\n",
    "B = 80  # Barrier level\n",
    "\n",
    "# Convert dates to datetime objects and calculate time to expiry in years\n",
    "valuation_datetime = datetime.strptime(valuation_date, \"%m/%d/%Y\")\n",
    "expiry_datetime = datetime.strptime(expiry_date, \"%m/%d/%Y\")\n",
    "T_days = (expiry_datetime - valuation_datetime).days\n",
    "T = T_days / 365.0\n",
    "\n",
    "# PDE grid parameters\n",
    "M = 100  # Number of grid points in asset price direction\n",
    "N = 1000  # Number of time steps\n",
    "\n",
    "# Set up the grid\n",
    "dt = T / N\n",
    "dS = 2 * S0 / M\n",
    "S = np.linspace(0, 2 * S0, M + 1)\n",
    "tau = np.linspace(0, T, N + 1)\n",
    "\n",
    "# Initialize the option price grid\n",
    "V = np.zeros((M + 1, N + 1))\n",
    "\n",
    "# Set up boundary conditions\n",
    "# For a down-and-in barrier option, the payoff at expiry is only if the asset price has gone below the barrier\n",
    "V[:, -1] = np.maximum(K - S, 0) * (S <= B)  # Terminal condition (at expiry, payoff only if the asset price is below the barrier)\n",
    "V[-1, :-1] = 0  # Upper boundary (large asset price)\n",
    "V[0, :-1] = K * np.exp(-r * (T - tau[:-1]))  # Lower boundary (zero asset price)\n",
    "\n",
    "# Time-stepping loop\n",
    "for n in range(N - 1, -1, -1):\n",
    "    for m in range(1, M):\n",
    "        # Update the option price grid using the explicit finite difference method\n",
    "        V[m, n] = V[m, n+1] + dt * (\n",
    "            0.5 * sigma ** 2 * S[m] ** 2 * (V[m+1, n+1] - 2 * V[m, n+1] + V[m-1, n+1]) / dS ** 2\n",
    "            + r * S[m] * (V[m+1, n+1] - V[m-1, n+1]) / (2 * dS)\n",
    "            - r * V[m, n+1]\n",
    "        )\n",
    "\n",
    "# Compute the down-and-in put option price at the initial time and asset price S0\n",
    "put_price = V[M//2, 0]\n",
    "print(\"Continuous down-and-in put barrier option price:\", put_price)"
   ]
  },
  {
   "attachments": {},
   "cell_type": "markdown",
   "metadata": {},
   "source": [
    " ## Description or Math Process for this task (4 pts)\n",
    "\n",
    "This Python code calculates the price of a continuous down-and-in barrier put option using the finite difference method, specifically the explicit method. The governing equation is the Black-Scholes Partial Differential Equation (PDE). The solution process involves discretizing the PDE on a grid and using a time-stepping loop to solve the equation.\n",
    "\n",
    "The Black-Scholes PDE for a European put option is given by:\n",
    "\n",
    "\\begin{equation}\n",
    "\\frac{\\partial V}{\\partial t} + rS\\frac{\\partial V}{\\partial S} + \\frac{1}{2} \\sigma^2 S^2 \\frac{\\partial^2 V}{\\partial S^2} - rV = 0\n",
    "\\end{equation}\n",
    "\n",
    "For a continuous down-and-in barrier option, the payoff at expiry is only if the asset price has gone below a certain barrier level $B$ during the option's life:\n",
    "\n",
    "\\begin{equation}\n",
    "V(S, T) = \\max(K - S, 0) \\cdot I(S \\leq B)\n",
    "\\end{equation}\n",
    "\n",
    "where $I$ is the indicator function.\n",
    "\n",
    "The Explicit Finite Difference method is used to discretize and solve the PDE. The discretization process results in the following equation:\n",
    "\n",
    "\\begin{equation}\n",
    "V_{m, n} = V_{m, n+1} + \\Delta t \\left[ \\frac{1}{2} \\sigma^2 S_m^2 \\frac{V_{m+1, n+1} - 2V_{m, n+1} + V_{m-1, n+1}}{\\Delta S^2} + r S_m \\frac{V_{m+1, n+1} - V_{m-1, n+1}}{2\\Delta S} - rV_{m, n+1} \\right]\n",
    "\\end{equation}\n",
    "\n",
    "where $V_{m, n}$ represents the option price at grid point $(m, n)$, and $\\Delta t$ and $\\Delta S$ are the time and asset price step sizes, respectively.\n"
   ]
  },
  {
   "attachments": {},
   "cell_type": "markdown",
   "metadata": {},
   "source": [
    "# Task D\n",
    "Use Black Scholes price to reconcile your PDE price with prices from a and c. Use trinomial tree to reconcile the price from b. Note, you need to find out how to price a continuous barrier using Analytic formula.\n",
    "\n",
    "## Reconciling A using BSM\n",
    "### Code with Necessary Comments and Result "
   ]
  },
  {
   "cell_type": "code",
   "execution_count": 5,
   "metadata": {},
   "outputs": [
    {
     "name": "stdout",
     "output_type": "stream",
     "text": [
      "Reconciling A: Black-Scholes European put option price: 5.537141658960508\n"
     ]
    }
   ],
   "source": [
    "# Define the Black-Scholes d1 and d2 parameters\n",
    "def d1(S, K, r, sigma, T):\n",
    "    return (np.log(S / K) + (r + 0.5 * sigma ** 2) * T) / (sigma * np.sqrt(T))\n",
    "\n",
    "def d2(S, K, r, sigma, T):\n",
    "    return d1(S, K, r, sigma, T) - sigma * np.sqrt(T)\n",
    "\n",
    "# Define the Black-Scholes formula for a European put option\n",
    "def black_scholes_put(S, K, r, sigma, T):\n",
    "    d1_value = d1(S, K, r, sigma, T)\n",
    "    d2_value = d2(S, K, r, sigma, T)\n",
    "    return K * np.exp(-r * T) * norm.cdf(-d2_value) - S * norm.cdf(-d1_value)\n",
    "\n",
    "# Convert valuation_date and expiry_date to datetime objects\n",
    "valuation_datetime = datetime.strptime(valuation_date, \"%m/%d/%Y\")\n",
    "expiry_datetime = datetime.strptime(expiry_date, \"%m/%d/%Y\")\n",
    "\n",
    "# Calculate time to expiry in years\n",
    "T_days = (expiry_datetime - valuation_datetime).days\n",
    "T = T_days / 365.0\n",
    "\n",
    "# Calculate and print the Black-Scholes European put price\n",
    "bs_european_put_price = black_scholes_put(S0, K, r, sigma, T)\n",
    "print(\"Reconciling A: Black-Scholes European put option price:\", bs_european_put_price)"
   ]
  },
  {
   "attachments": {},
   "cell_type": "markdown",
   "metadata": {},
   "source": [
    "### Comment on the result: \n",
    "This result is confirming the result that we obtain in Task A, which as well confirms the validity of using Explicit PDE grid to price European Put Option. "
   ]
  },
  {
   "attachments": {},
   "cell_type": "markdown",
   "metadata": {},
   "source": [
    " ### Description or Math Process for this task \n",
    "\n",
    "This Python code calculates the price of a European put option using the Black-Scholes formula. The Black-Scholes formula is a solution to the Black-Scholes PDE, which is the fundamental equation in financial mathematics for option pricing. The parameters of the model are the spot price of the underlying asset, the strike price of the option, the risk-free interest rate, the volatility of the underlying asset, and the time to expiry of the option.\n",
    "\n",
    "The Black-Scholes formula for a European put option is given by:\n",
    "\n",
    "\\begin{equation}\n",
    "P(S, K, r, \\sigma, T) = K e^{-rT} N(-d_2) - S N(-d_1)\n",
    "\\end{equation}\n",
    "\n",
    "where\n",
    "\\begin{align*}\n",
    "d_1 &= \\frac{\\ln\\left(\\frac{S}{K}\\right) + \\left(r + \\frac{\\sigma^2}{2}\\right)T}{\\sigma \\sqrt{T}}, \\\\\n",
    "d_2 &= d_1 - \\sigma \\sqrt{T},\n",
    "\\end{align*}\n",
    "\n",
    "$N(\\cdot)$ is the cumulative distribution function of the standard normal distribution, $S$ is the spot price of the underlying asset, $K$ is the strike price of the option, $r$ is the risk-free interest rate, $\\sigma$ is the volatility of the underlying asset, and $T$ is the time to expiry of the option.\n"
   ]
  },
  {
   "attachments": {},
   "cell_type": "markdown",
   "metadata": {},
   "source": [
    "## Reconciling C using BSM\n",
    "### Code with Necessary Comments and Result "
   ]
  },
  {
   "cell_type": "code",
   "execution_count": 6,
   "metadata": {},
   "outputs": [
    {
     "name": "stdout",
     "output_type": "stream",
     "text": [
      "Analytical solution for Continuous Down and In put :3.0188\n"
     ]
    }
   ],
   "source": [
    "# Define the cumulative distribution function of the standard normal distribution\n",
    "def N(x):\n",
    "  return stats.norm.cdf(x)\n",
    "\n",
    "# Define the analytical formula for a Down-and-In European put option\n",
    "def closed_form_down_and_in_european_put_option(S, K, B, r, sigma, T):\n",
    "    lambda_ = (r + ((sigma * sigma) / 2)) / (sigma * sigma)\n",
    "    temp = 2 * lambda_ - 2.0\n",
    "    x1 = (np.log(S / B) / (sigma * np.sqrt(T))) + (lambda_ * sigma * np.sqrt(T))\n",
    "    y = (np.log(B * B / (S * K)) / (sigma * np.sqrt(T))) + (lambda_ * sigma * np.sqrt(T))\n",
    "    y1 = (np.log(B / S) / (sigma * np.sqrt(T))) + (lambda_ * sigma * np.sqrt(T))\n",
    "    return (-S * norm.cdf(-x1) + K * np.exp(-r * T) * norm.cdf(-x1 + sigma * np.sqrt(T)) +\n",
    "            S * pow(B / S, 2 * lambda_) * (norm.cdf(y) - norm.cdf(y1)) -\n",
    "            K * np.exp(-r * T) * pow(B / S, temp) * (norm.cdf(y - sigma * np.sqrt(T)) - norm.cdf(y1 - sigma * np.sqrt(T))))\n",
    "\n",
    "# Calculate the Down-and-In put option price\n",
    "down_and_in_put_price = closed_form_down_and_in_european_put_option(S0, K, B, r, sigma, T)\n",
    "\n",
    "# Print the price of the Down-and-In put option\n",
    "print(f'Analytical solution for Continuous Down and In put :{down_and_in_put_price:.4f}')\n"
   ]
  },
  {
   "attachments": {},
   "cell_type": "markdown",
   "metadata": {},
   "source": [
    "### Comment on the result: \n",
    "This result is confirming the result that we obtain in Task C, which as well confirms the validity of using Explicit PDE grid to price Continuous Down and In Put Option. "
   ]
  },
  {
   "attachments": {},
   "cell_type": "markdown",
   "metadata": {},
   "source": [
    " ### Description or Math Process for this task \n",
    "\n",
    "The Python code calculates the price of a Down-and-In European put option using an analytical solution. A Down-and-In put option becomes active, i.e., a standard put option, if the price of the underlying asset hits a pre-specified barrier level before the option's expiry. If the barrier is never breached, the option expires worthless.\n",
    "\n",
    "The formula for a Down-and-In European put option is given by:\n",
    "\n",
    "\\begin{align*}\n",
    "P(S, K, B, r, \\sigma, T) &= -S N(-x_1) + K e^{-rT} N(-x_1 + \\sigma \\sqrt{T}) \\\\\n",
    "&+ S \\left(\\frac{B}{S}\\right)^{2\\lambda} \\left[N(y) - N(y1)\\right] \\\\\n",
    "&- K e^{-rT} \\left(\\frac{B}{S}\\right)^{2\\lambda - 2} \\left[N(y - \\sigma \\sqrt{T}) - N(y1 - \\sigma \\sqrt{T})\\right]\n",
    "\\end{align*}\n",
    "\n",
    "where\n",
    "\\begin{align*}\n",
    "\\lambda &= \\frac{r + \\frac{\\sigma^2}{2}}{\\sigma^2}, \\\\\n",
    "x_1 &= \\frac{\\ln\\left(\\frac{S}{B}\\right) + \\lambda \\sigma \\sqrt{T}}{\\sigma \\sqrt{T}}, \\\\\n",
    "y &= \\frac{\\ln\\left(\\frac{B^2}{S K}\\right) + \\lambda \\sigma \\sqrt{T}}{\\sigma \\sqrt{T}}, \\\\\n",
    "y1 &= \\frac{\\ln\\left(\\frac{B}{S}\\right) + \\lambda \\sigma \\sqrt{T}}{\\sigma \\sqrt{T}}, \\\\\n",
    "N(\\cdot) &\\text{ is the cumulative distribution function of the standard normal distribution}, \\\\\n",
    "S &\\text{ is the spot price of the underlying asset}, \\\\\n",
    "K &\\text{ is the strike price of the option}, \\\\\n",
    "B &\\text{ is the barrier level}, \\\\\n",
    "r &\\text{ is the risk-free interest rate}, \\\\\n",
    "\\sigma &\\text{ is the volatility of the underlying asset}, \\\\\n",
    "T &\\text{ is the time to expiry of the option}.\n",
    "\\end{align*}\n"
   ]
  },
  {
   "attachments": {},
   "cell_type": "markdown",
   "metadata": {},
   "source": [
    "## Reconciling B with Trinomial Tree Model\n",
    "### Code with Necessary Comments and Result "
   ]
  },
  {
   "cell_type": "code",
   "execution_count": 7,
   "metadata": {},
   "outputs": [
    {
     "name": "stdout",
     "output_type": "stream",
     "text": [
      "Trinomial tree American put option price: 5.670929416020242\n"
     ]
    }
   ],
   "source": [
    "# Parameters\n",
    "S0 = 100\n",
    "K = 100\n",
    "sigma = 0.2\n",
    "r = 0.025\n",
    "valuation_date = \"4/28/2023\"\n",
    "expiry_date = \"12/15/2023\"\n",
    "\n",
    "valuation_datetime = datetime.strptime(valuation_date, \"%m/%d/%Y\")\n",
    "expiry_datetime = datetime.strptime(expiry_date, \"%m/%d/%Y\")\n",
    "T_days = (expiry_datetime - valuation_datetime).days\n",
    "T = T_days / 365.0\n",
    "\n",
    "# Trinomial tree parameters\n",
    "N = 1000  # number of time steps\n",
    "dt = T / N\n",
    "\n",
    "# Trinomial probabilities\n",
    "u = np.exp(sigma * np.sqrt(2 * dt))\n",
    "d = 1 / u\n",
    "p_u = ((np.exp(r * dt / 2) - np.exp(-sigma * np.sqrt(dt / 2))) / (np.exp(sigma * np.sqrt(dt / 2)) - np.exp(-sigma * np.sqrt(dt / 2)))) ** 2\n",
    "p_d = ((np.exp(sigma * np.sqrt(dt / 2)) - np.exp(r * dt / 2)) / (np.exp(sigma * np.sqrt(dt / 2)) - np.exp(-sigma * np.sqrt(dt / 2)))) ** 2\n",
    "p_m = 1 - p_u - p_d\n",
    "\n",
    "# Initialize the trinomial tree\n",
    "tree = np.zeros((2 * N + 1, N + 1))\n",
    "\n",
    "# Set up the terminal payoff\n",
    "for i in range(2 * N + 1):\n",
    "    tree[i, -1] = max(K - S0 * u ** (N - i), 0)\n",
    "\n",
    "# Backward induction\n",
    "for n in range(N - 1, -1, -1):\n",
    "    for i in range(2 * n + 1):\n",
    "        tree[i, n] = max(K - S0 * u ** (n - i), np.exp(-r * dt) * (p_u * tree[i, n + 1] + p_m * tree[i + 1, n + 1] + p_d * tree[i + 2, n + 1]))\n",
    "\n",
    "# Print the price of the American put option\n",
    "american_put_price_trinomial = tree[0, 0]\n",
    "print(\"Trinomial tree American put option price:\", american_put_price_trinomial)"
   ]
  },
  {
   "attachments": {},
   "cell_type": "markdown",
   "metadata": {},
   "source": [
    "### Comment on the result: \n",
    "This result is confirming the result that we obtain in Task CB, which as well confirms the validity of using Explicit PDE grid to price American Put Option. "
   ]
  },
  {
   "attachments": {},
   "cell_type": "markdown",
   "metadata": {},
   "source": [
    " ### Description or Math Process for this task \n",
    " The trinomial tree is a discrete-time model for the dynamics of the underlying asset price. At each time step, the asset price can either move up by a factor of $u$, move down by a factor of $d$, or stay the same. These movements occur with respective probabilities $p_u$, $p_d$, and $p_m$.\n",
    "\n",
    "The trinomial probabilities are calculated as follows:\n",
    "\n",
    "\\begin{align*}\n",
    "p_u = \\left( \\frac{e^{\\frac{r \\cdot dt}{2}} - e^{-\\sigma \\cdot \\sqrt{\\frac{dt}{2}}}}{e^{\\sigma \\cdot \\sqrt{\\frac{dt}{2}}} - e^{-\\sigma \\cdot \\sqrt{\\frac{dt}{2}}}} \\right)^2\n",
    "\\end{align*}\n",
    "\n",
    "\\begin{align*}\n",
    "p_d = \\left( \\frac{e^{\\sigma \\cdot \\sqrt{\\frac{dt}{2}}} - e^{\\frac{r \\cdot dt}{2}}}{e^{\\sigma \\cdot \\sqrt{\\frac{dt}{2}}} - e^{-\\sigma \\cdot \\sqrt{\\frac{dt}{2}}}} \\right)^2\n",
    "\\end{align*}\n",
    "\n",
    "\\begin{align*}\n",
    "p_m = 1 - p_u - p_d\n",
    "\\end{align*}\n",
    "\n",
    "The price of the option at each node in the trinomial tree is calculated as the maximum of the intrinsic value and the discounted expected value of the option at the next time step:\n",
    "\n",
    "\\begin{align*}\n",
    "V_{i, n} = \\max \\left( K - S0 \\times u^{(n - i)}, e^{-r \\cdot dt} \\times (p_u \\cdot V_{i, n+1} + p_m \\cdot V_{i+1, n+1} + p_d \\cdot V_{i+2, n+1}) \\right)\n",
    "\\end{align*}\n",
    "\n",
    "The price of the American put option is then given by the value of the option at the root of the trinomial tree.\n"
   ]
  },
  {
   "attachments": {},
   "cell_type": "markdown",
   "metadata": {},
   "source": [
    "# Task E\n",
    "Use a Monte Carlo pricer to reconcile with price from A. "
   ]
  },
  {
   "attachments": {},
   "cell_type": "markdown",
   "metadata": {},
   "source": [
    "## Code with Necessary Comments and Result (Totally 4 pts) "
   ]
  },
  {
   "cell_type": "code",
   "execution_count": 8,
   "metadata": {},
   "outputs": [
    {
     "name": "stdout",
     "output_type": "stream",
     "text": [
      "Monte Carlo European put option price: 5.5365699207100505\n"
     ]
    }
   ],
   "source": [
    "# Parameters\n",
    "S0 = 100\n",
    "K = 100\n",
    "sigma = 0.2\n",
    "r = 0.025\n",
    "valuation_date = \"4/28/2023\"\n",
    "expiry_date = \"12/15/2023\"\n",
    "\n",
    "valuation_datetime = datetime.strptime(valuation_date, \"%m/%d/%Y\")\n",
    "expiry_datetime = datetime.strptime(expiry_date, \"%m/%d/%Y\")\n",
    "T_days = (expiry_datetime - valuation_datetime).days\n",
    "T = T_days / 365.0\n",
    "\n",
    "# Set the parameters for the Monte Carlo simulation\n",
    "num_simulations = 100000\n",
    "\n",
    "# Generate standard normal random variables\n",
    "np.random.seed(42)\n",
    "Z = np.random.randn(num_simulations)\n",
    "\n",
    "# Simulate asset prices at expiry\n",
    "S_T = S0 * np.exp((r - 0.5 * sigma ** 2) * T + sigma * np.sqrt(T) * Z)\n",
    "\n",
    "# Calculate the payoffs for each simulation, discounted to the present\n",
    "payoffs = np.maximum(K - S_T, 0) * np.exp(-r * T)\n",
    "\n",
    "# Calculate the Monte Carlo price as the average of the payoffs\n",
    "monte_carlo_price = np.mean(payoffs)\n",
    "print(\"Monte Carlo European put option price:\", monte_carlo_price)\n",
    "\n"
   ]
  },
  {
   "attachments": {},
   "cell_type": "markdown",
   "metadata": {},
   "source": [
    "### Comment on the result: \n",
    "This result is confirming the result that we obtain in Task A, which as well confirms the validity of using Explicit PDE grid to price European Put Option. "
   ]
  },
  {
   "attachments": {},
   "cell_type": "markdown",
   "metadata": {},
   "source": [
    " ### Description or Math Process for this task (4 pts)\n",
    " This Python code calculates the price of a European put option using the Monte Carlo simulation method. The details of the method are explained below:\n",
    "\n",
    " The Monte Carlo price for a European put option is given by the discounted expectation of the payoff under the risk-neutral measure:\n",
    "\n",
    "\\begin{equation}\n",
    "P_{MC}(S, K, r, \\sigma, T) = e^{-rT} \\mathbb{E}_\\mathbb{Q}[ (K - S_T)^+ ]\n",
    "\\end{equation}\n",
    "\n",
    "where \n",
    "- $(\\cdot)^+ = \\max(\\cdot, 0)$ denotes the positive part, \n",
    "- $S_T = S e^{(r - \\frac{1}{2}\\sigma^2)T + \\sigma\\sqrt{T}Z}$ is the asset price at expiry,\n",
    "- $Z$ is a standard normal random variable,\n",
    "- $S$ is the spot price of the underlying asset,\n",
    "- $K$ is the strike price of the option, \n",
    "- $r$ is the risk-free interest rate, \n",
    "- $\\sigma$ is the volatility of the underlying asset, and \n",
    "- $T$ is the time to expiry of the option."
   ]
  },
  {
   "attachments": {},
   "cell_type": "markdown",
   "metadata": {},
   "source": [
    "# Why minor difference? "
   ]
  },
  {
   "attachments": {},
   "cell_type": "markdown",
   "metadata": {},
   "source": [
    "The minor differences in the option prices obtained from the PDE grid method, trinomial tree method, and Monte Carlo simulation, when compared to the analytical Black-Scholes prices, are normal and expected. These differences can be attributed to discretization errors, the choice of grid points, time steps, or the number of simulations in each method. It is common for these numerical methods to exhibit small differences in price when compared to analytical models.\n",
    "\n",
    "In practice, increasing the numerical resolution (more grid points, time steps, or simulations) can help reduce these differences and improve the accuracy of the calculated prices. However, this improvement comes at the cost of increased computation time. Therefore, it is essential to strike a balance between accuracy and computational efficiency, especially in real-time pricing and risk management applications."
   ]
  },
  {
   "attachments": {},
   "cell_type": "markdown",
   "metadata": {},
   "source": [
    "<center><img src=\"https://news.illinois.edu/files/6367/543635/116641.jpg\" alt=\"University of Illinois\" width=\"250\"/></center>"
   ]
  }
 ],
 "metadata": {
  "kernelspec": {
   "display_name": "Python 3",
   "language": "python",
   "name": "python3"
  },
  "language_info": {
   "codemirror_mode": {
    "name": "ipython",
    "version": 3
   },
   "file_extension": ".py",
   "mimetype": "text/x-python",
   "name": "python",
   "nbconvert_exporter": "python",
   "pygments_lexer": "ipython3",
   "version": "3.11.1"
  },
  "orig_nbformat": 4
 },
 "nbformat": 4,
 "nbformat_minor": 2
}
