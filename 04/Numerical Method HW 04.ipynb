{
 "cells": [
  {
   "cell_type": "markdown",
   "metadata": {},
   "source": [
    "<center><img src=\"https://news.illinois.edu/files/6367/543635/116641.jpg\" alt=\"University of Illinois\" width=\"250\"/></center>\n",
    "\n",
    "# Numerical Methods for Financial Engineering\n",
    "\n",
    "## Assignment 04 ##\n",
    "\n",
    "* Yu-Ching Liao <ycliao3@illinois.edu>"
   ]
  },
  {
   "attachments": {},
   "cell_type": "markdown",
   "metadata": {},
   "source": [
    "# Basic Import"
   ]
  },
  {
   "cell_type": "code",
   "execution_count": 4,
   "metadata": {},
   "outputs": [],
   "source": [
    "import numpy as np\n",
    "from scipy.integrate import quad\n",
    "import cmath\n",
    "np.random.seed(42)"
   ]
  },
  {
   "attachments": {},
   "cell_type": "markdown",
   "metadata": {},
   "source": [
    "# Question 01\n",
    "Use $Carr-Madan$ $formula$ to price a call option that knocks out at maturity if $S_T >B$."
   ]
  },
  {
   "attachments": {},
   "cell_type": "markdown",
   "metadata": {},
   "source": [
    "To price a knock-out call option using the $Carr-Madan$ formula, we need to modify the payoff function to account for the knock-out feature. A knock-out call option pays the holder if the option is $in-the-money (S_T > K)$ at maturity and if the asset price has not breached the barrier level $B (S_T <= B)$. The payoff function for this knock-out call option is:\n",
    "\n",
    "$g(S_T) = max(S_T - K, 0) \\times I(S_T <= B)$\n",
    "\n",
    "where $I(S_T <= B)$ is an indicator function, which is $1$ when $S_T <= B$ and $0$ otherwise.\n",
    "\n",
    "Now, let's compute the second derivative of the payoff function $g(S_T)$ with respect to the strike price $K$. The second derivative $g''(K)$ is given by:\n",
    "\n",
    "$g''(K) = -\\delta(K - S_T) \\times I(S_T <= B)$\n",
    "\n",
    "Substitute $g''(K)$ back into the $Carr-Madan$ formula:\n",
    "\n",
    "$E[g(S_T)] = g(E[S_T]) + e^{rT} \\left(\\int_{0}^{F} P(S_0, K) g''(K) dK + \\int_{F}^{\\infty} C(S_0, K) g''(K) dK \\right)$\n",
    "\n",
    "$E[max(S_T - K, 0) \\times I(S_T <= B)] = max(E[S_T] - K, 0) \\times I(E[S_T] <= B) + e^{rT} \\left(\\int_{0}^{F} P(S_0, K) (-\\delta(K - S_T) \\times I(S_T <= B)) dK + \\int_{F}^{\\infty} C(S_0, K) (-\\delta(K - S_T) \\times I(S_T <= B)) dK \\right)$\n",
    "\n",
    "Since the Dirac delta function is zero everywhere except at $K = S_T$, the two integrals in the formula simplify to:\n",
    "\n",
    "$\\int_{0}^{F} P(S_0, K) (-\\delta(K - S_T) \\times I(S_T <= B)) dK = -P(S_0, S_T) \\times I(S_T <= B)$\n",
    "\n",
    "$\\int_{F}^{\\infty} C(S_0, K) (-\\delta(K - S_T) \\times I(S_T <= B)) dK = -C(S_0, S_T) \\times I(S_T <= B)$\n",
    "\n",
    "Substitute these simplified expressions back into the $Carr-Madan$ formula:\n",
    "\n",
    "$E[max(S_T - K, 0) \\times I(S_T <= B)] = max(E[S_T] - K, 0) \\times I(E[S_T] <= B) - e^{rT} (P(S_0, S_T) \\times I(S_T <= B) + C(S_0, S_T) \\times I(S_T <= B))$\n",
    "\n",
    "Now, we need to compute the expected value of the knock-out call option payoff $E[max(S_T - K, 0) \\times I(S_T <= B)]$. This can be done using Monte Carlo simulations, finite difference methods, or other numerical techniques. Once the expected value is obtained, we can solve for the knock-out call option price $C(S_0, S_T)$ using the modified $Carr-Madan$ formula."
   ]
  },
  {
   "attachments": {},
   "cell_type": "markdown",
   "metadata": {},
   "source": [
    "# Question 02\n",
    "Derive the Variance swap fair value relationship with the log contract $ln(S_T/S_0)$ using Taylor expansion without assuming GBM on $S_t$."
   ]
  },
  {
   "attachments": {},
   "cell_type": "markdown",
   "metadata": {},
   "source": [
    "To derive the variance swap fair value relationship with the log contract $ln(S_T/S_0)$, we'll first define the log contract and then use Taylor expansion to approximate it. We will not assume that the stock price $S_t$ follows a Geometric Brownian Motion (GBM) process.\n",
    "\n",
    "1. Define the log contract:\n",
    "A log contract is a type of financial derivative that pays off the logarithm of the ratio of the underlying asset's final price ($S_T$) to its initial price ($S_0$). Mathematically, the payoff of the log contract can be represented as:\n",
    "$Payoff = ln(S_T / S_0)$\n",
    "\n",
    "2. Taylor expansion:\n",
    "Taylor expansion is a technique used to approximate a function using a polynomial. We'll apply the Taylor expansion to the log contract function. The Taylor expansion of $ln(1+x)$ around $x=0$ is:\n",
    "$ln(1+x) = x - x^2/2 + x^3/3 - x^4/4 + ...$\n",
    "\n",
    "We can rewrite the log contract payoff using the Taylor expansion:\n",
    "\n",
    "$Payoff = ln(S_T / S_0) = ln((S_T - S_0 + S_0) / S_0) = ln(1 + (S_T - S_0) / S_0)$\n",
    "\n",
    "Let $x = (S_T - S_0) / S_0$, then:\n",
    "\n",
    "$Payoff = x - x^2/2 + x^3/3 - x^4/4 + ...$\n",
    "\n",
    "Express $x$ in terms of $S_T$ and $S_0$:\n",
    "$x = (S_T - S_0) / S_0$\n",
    "\n",
    "Calculate the fair value of the variance swap:\n",
    "To find the fair value of the variance swap, we need to compute the expectation of the payoff of the log contract under the risk-neutral measure. This means we need to calculate the expected value of each term in the Taylor expansion.\n",
    "\n",
    "Since we do not assume GBM on $S_t$, we cannot directly calculate the expected value of the terms in the Taylor expansion. However, we can still express the fair value of the variance swap in terms of the expected values of the terms in the Taylor expansion:\n",
    "\n",
    "$Variance \\space swap\\space fair\\space value = E[x] - E[x^2]/2 + E[x^3]/3 - E[x^4]/4 + ...$\n",
    "\n",
    "Note that in practice, we may only need to consider the first few terms of the Taylor expansion to achieve a reasonable approximation of the variance swap fair value.\n",
    "\n",
    "In summary, we derived the variance swap fair value relationship with the log contract $ln(S_T/S_0)$ using the Taylor expansion without assuming GBM on $S_t$. The fair value of the variance swap can be expressed in terms of the expected values of the terms in the Taylor expansion."
   ]
  },
  {
   "attachments": {},
   "cell_type": "markdown",
   "metadata": {},
   "source": [
    "# Question 03\n",
    "Derive the $PDE$ for a quanto option via the replication argument."
   ]
  },
  {
   "attachments": {},
   "cell_type": "markdown",
   "metadata": {},
   "source": [
    "Let:\n",
    "\n",
    "1. $S$ be the price of the foreign asset, which follows the geometric Brownian motion:\n",
    "   $dS = \\mu S dt + \\sigma S dW_1$\n",
    "\n",
    "2. $Q$ be the price of the quanto option, which depends on the underlying asset's price $S$ and time $t$.\n",
    "\n",
    "3. $X$ be the exchange rate, which also follows a geometric Brownian motion:\n",
    "   $dX = \\eta X dt + \\xi X dW_2$\n",
    "\n",
    "4. $\\rho$ be the correlation between the two Brownian motions, $dW_1$ and $dW_2$.\n",
    "\n",
    "Apply Ito's Lemma to find the differential of the quanto option price $Q(S, t)$:\n",
    "\n",
    "$dQ = \\left(\\frac{\\partial Q}{\\partial t}\\right) dt + \\left(\\frac{\\partial Q}{\\partial S}\\right) dS + \\frac{1}{2} \\left(\\frac{\\partial^2 Q}{\\partial S^2}\\right) dS^2 + \\left(\\frac{\\partial Q}{\\partial X}\\right) dX + \\frac{1}{2} \\left(\\frac{\\partial^2 Q}{\\partial X^2}\\right) dX^2 + \\left(\\frac{\\partial^2 Q}{\\partial S\\partial X}\\right) dS dX$\n",
    "\n",
    "Substitute the equations for $dS$ and $dX$:\n",
    "\n",
    "$dQ = \\left[\\left(\\frac{\\partial Q}{\\partial t}\\right) + \\mu S \\left(\\frac{\\partial Q}{\\partial S}\\right) + \\frac{1}{2} \\sigma^2 S^2 \\left(\\frac{\\partial^2 Q}{\\partial S^2}\\right) + \\eta X \\left(\\frac{\\partial Q}{\\partial X}\\right) + \\frac{1}{2} \\xi^2 X^2 \\left(\\frac{\\partial^2 Q}{\\partial X^2}\\right) + \\rho \\sigma \\xi S X \\left(\\frac{\\partial^2 Q}{\\partial S\\partial X}\\right)\\right] dt + \\left[\\sigma S \\left(\\frac{\\partial Q}{\\partial S}\\right) + \\rho \\xi X \\left(\\frac{\\partial Q}{\\partial X}\\right)\\right] dW_1 + \\left[\\xi X \\left(\\frac{\\partial Q}{\\partial X}\\right) + \\rho \\sigma S \\left(\\frac{\\partial Q}{\\partial S}\\right)\\right] dW_2$\n",
    "\n",
    "Use the replication argument with a self-financing portfolio $\\Pi$, which consists of the quanto option and the underlying asset:\n",
    "\n",
    "$d\\Pi = dQ + \\Delta_S dS + \\Delta_X dX$\n",
    "\n",
    "Eliminate the $dW_1$ and $dW_2$ terms to make the portfolio risk-free:\n",
    "\n",
    "$\\Delta_S = \\sigma S \\left(\\frac{\\partial Q}{\\partial S}\\right) + \\rho \\xi X \\left(\\frac{\\partial Q}{\\partial X}\\right)$\n",
    "$\\Delta_X = \\xi X \\left(\\frac{\\partial Q}{\\partial X}\\right) + \\rho \\sigma S \\left(\\frac{\\partial Q}{\\partial S}\\right)$\n",
    "\n",
    "Substitute the chosen $\\Delta_S$ and $\\Delta_X$ into the equation for $d\\Pi$, and consider the risk-free rate $r$:\n",
    "\n",
    "$d\\Pi = \\left[\\left(\\frac{\\partial Q}{\\partial t}\\right) + \\mu S \\left(\\frac{\\partial Q}{\\partial S}\\right) + \\frac{1}{2} \\sigma^2 S^2 \\left(\\frac{\\partial^2 Q}{\\partial S^2}\\right) + \\eta X \\left(\\frac{\\partial Q}{\\partial X}\\right) + \\frac{1}{2} \\xi^2 X^2 \\left(\\frac{\\partial^2 Q}{\\partial X^2}\\right) + \\rho \\sigma \\xi S X \\left(\\frac{\\partial^2 Q}{\\partial S\\partial X}\\right)\\right] dt$\n",
    "\n",
    "Since the portfolio is risk-free, its return should be equal to the risk-free rate:\n",
    "\n",
    "$d\\Pi = r\\Pi dt$\n",
    "\n",
    "Now, we can substitute the expression for $d\\Pi$ and solve for the PDE:\n",
    "\n",
    "$r(Q - \\Delta_S S - \\Delta_X X) = \\left(\\frac{\\partial Q}{\\partial t}\\right) + \\mu S \\left(\\frac{\\partial Q}{\\partial S}\\right) + \\frac{1}{2} \\sigma^2 S^2 \\left(\\frac{\\partial^2 Q}{\\partial S^2}\\right) + \\eta X \\left(\\frac{\\partial Q}{\\partial X}\\right) + \\frac{1}{2} \\xi^2 X^2 \\left(\\frac{\\partial^2 Q}{\\partial X^2}\\right) + \\rho \\sigma \\xi S X \\left(\\frac{\\partial^2 Q}{\\partial S\\partial X}\\right)$\n",
    "\n"
   ]
  },
  {
   "attachments": {},
   "cell_type": "markdown",
   "metadata": {},
   "source": [
    "<center><img src=\"https://news.illinois.edu/files/6367/543635/116641.jpg\" alt=\"University of Illinois\" width=\"250\"/></center>"
   ]
  }
 ],
 "metadata": {
  "kernelspec": {
   "display_name": "Python 3",
   "language": "python",
   "name": "python3"
  },
  "language_info": {
   "codemirror_mode": {
    "name": "ipython",
    "version": 3
   },
   "file_extension": ".py",
   "mimetype": "text/x-python",
   "name": "python",
   "nbconvert_exporter": "python",
   "pygments_lexer": "ipython3",
   "version": "3.11.1"
  },
  "orig_nbformat": 4
 },
 "nbformat": 4,
 "nbformat_minor": 2
}
